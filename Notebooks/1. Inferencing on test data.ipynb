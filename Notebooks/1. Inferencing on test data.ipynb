{
 "cells": [
  {
   "cell_type": "markdown",
   "metadata": {},
   "source": [
    "# Dinov2 Model Inference"
   ]
  },
  {
   "cell_type": "markdown",
   "metadata": {},
   "source": [
    "## Introduction\n",
    "The purpose of this notebook is to serve as a baseline entry for the competition, and as a guidance on how to infer the available trained models on quadrat test images. \n",
    "The DinoV2-based plant identification model provided in the competition is applied to the entire image of each quadrat in the test set, which has been resized to the original input dimensions of 518x518 used to train DinoV2.\n",
    "This notebook can be used as a starting point for further development. Feel free to leave comments on errors or for any improvement."
   ]
  },
  {
   "cell_type": "markdown",
   "metadata": {},
   "source": [
    "### Import libraries"
   ]
  },
  {
   "cell_type": "code",
   "execution_count": 4,
   "metadata": {
    "_cell_guid": "b1076dfc-b9ad-4769-8c92-a6c4dae69d19",
    "_uuid": "8f2839f25d086af736a60e9eeb907d3b93b6e0e5",
    "execution": {
     "iopub.execute_input": "2025-10-17T22:08:52.993438Z",
     "iopub.status.busy": "2025-10-17T22:08:52.993071Z",
     "iopub.status.idle": "2025-10-17T22:09:00.818362Z",
     "shell.execute_reply": "2025-10-17T22:09:00.817445Z",
     "shell.execute_reply.started": "2025-10-17T22:08:52.993409Z"
    },
    "trusted": true
   },
   "outputs": [],
   "source": [
    "# Reading & writing CSV\n",
    "import csv\n",
    "# Numerical Computation\n",
    "import numpy as np \n",
    "# Data Manipulation\n",
    "import pandas as pd\n",
    "# PyTorch Image Models: pre-trained computer vision models\n",
    "import timm \n",
    "# PyTorch\n",
    "import torch\n",
    "# Manipulating Images\n",
    "from PIL import Image\n",
    "# Utilities for handling data loading\n",
    "from torch.utils.data import DataLoader, Dataset\n",
    "# A module for emitting log messages from the program (A professional way to track events, errors, and progress)\n",
    "import logging\n",
    "# Measure time\n",
    "import time\n",
    "# Interact with file system\n",
    "import os\n",
    "\n",
    "logging.basicConfig(\n",
    "    level=logging.INFO,\n",
    "    handlers=[logging.StreamHandler()])\n",
    "_logger = logging.getLogger('inference')"
   ]
  },
  {
   "cell_type": "code",
   "execution_count": 5,
   "metadata": {
    "execution": {
     "iopub.execute_input": "2025-10-17T22:09:00.819832Z",
     "iopub.status.busy": "2025-10-17T22:09:00.819552Z",
     "iopub.status.idle": "2025-10-17T22:09:00.825916Z",
     "shell.execute_reply": "2025-10-17T22:09:00.825194Z",
     "shell.execute_reply.started": "2025-10-17T22:09:00.819805Z"
    },
    "trusted": true
   },
   "outputs": [],
   "source": [
    "# AverageMeter Class:\n",
    "# This is a utility class used to keep track of a running average for a value, like loss or accuracy, during training or inference.\n",
    "# It's a convenient way to monitor performance over time.\n",
    "\n",
    "class AverageMeter:\n",
    "    def __init__(self):\n",
    "        self.val = 0\n",
    "        self.avg = 0\n",
    "        self.sum = 0\n",
    "        self.count = 0\n",
    "\n",
    "    def update(self, val, n=1):\n",
    "        self.val = val\n",
    "        self.sum += val * n\n",
    "        self.count += n\n",
    "        self.avg = self.sum / self.count\n",
    "        \n",
    "\n",
    "# TEstDataset Class\n",
    "# This class is a custom PyTorch Dataset specifically for the test images.\n",
    "# It tells PyTorch how to find, load, and preprocess each image in the test set.\n",
    "class TestDataset(Dataset):\n",
    "    def __init__(self, image_folder, transform=None):\n",
    "        self.image_folder = image_folder\n",
    "        self.image_paths = [os.path.join(image_folder, f) for f in os.listdir(image_folder)]\n",
    "        self.transform = transform\n",
    "\n",
    "    def __len__(self):\n",
    "        return len(self.image_paths)\n",
    "\n",
    "    def __getitem__(self, idx):\n",
    "        image_path = self.image_paths[idx]\n",
    "        image = Image.open(image_path)\n",
    "\n",
    "        if self.transform:\n",
    "            image = self.transform(image)\n",
    "\n",
    "        return image, image_path "
   ]
  },
  {
   "cell_type": "markdown",
   "metadata": {},
   "source": [
    "Load species competition metadata"
   ]
  },
  {
   "cell_type": "code",
   "execution_count": 6,
   "metadata": {
    "execution": {
     "iopub.execute_input": "2025-10-17T22:09:00.827685Z",
     "iopub.status.busy": "2025-10-17T22:09:00.827488Z",
     "iopub.status.idle": "2025-10-17T22:09:23.669138Z",
     "shell.execute_reply": "2025-10-17T22:09:23.668254Z",
     "shell.execute_reply.started": "2025-10-17T22:09:00.827668Z"
    },
    "trusted": true
   },
   "outputs": [
    {
     "data": {
      "text/html": [
       "<div>\n",
       "<style scoped>\n",
       "    .dataframe tbody tr th:only-of-type {\n",
       "        vertical-align: middle;\n",
       "    }\n",
       "\n",
       "    .dataframe tbody tr th {\n",
       "        vertical-align: top;\n",
       "    }\n",
       "\n",
       "    .dataframe thead th {\n",
       "        text-align: right;\n",
       "    }\n",
       "</style>\n",
       "<table border=\"1\" class=\"dataframe\">\n",
       "  <thead>\n",
       "    <tr style=\"text-align: right;\">\n",
       "      <th></th>\n",
       "      <th>image_name</th>\n",
       "      <th>organ</th>\n",
       "      <th>species_id</th>\n",
       "      <th>obs_id</th>\n",
       "      <th>license</th>\n",
       "      <th>partner</th>\n",
       "      <th>author</th>\n",
       "      <th>altitude</th>\n",
       "      <th>latitude</th>\n",
       "      <th>longitude</th>\n",
       "      <th>gbif_species_id</th>\n",
       "      <th>species</th>\n",
       "      <th>genus</th>\n",
       "      <th>family</th>\n",
       "      <th>dataset</th>\n",
       "      <th>publisher</th>\n",
       "      <th>references</th>\n",
       "      <th>url</th>\n",
       "      <th>learn_tag</th>\n",
       "      <th>image_backup_url</th>\n",
       "    </tr>\n",
       "  </thead>\n",
       "  <tbody>\n",
       "    <tr>\n",
       "      <th>0</th>\n",
       "      <td>59feabe1c98f06e7f819f73c8246bd8f1a89556b.jpg</td>\n",
       "      <td>leaf</td>\n",
       "      <td>1396710</td>\n",
       "      <td>1008726402</td>\n",
       "      <td>cc-by-sa</td>\n",
       "      <td>NaN</td>\n",
       "      <td>Gulyás Bálint</td>\n",
       "      <td>205.9261</td>\n",
       "      <td>47.592160</td>\n",
       "      <td>19.362895</td>\n",
       "      <td>5284517.0</td>\n",
       "      <td>Taxus baccata L.</td>\n",
       "      <td>Taxus</td>\n",
       "      <td>Taxaceae</td>\n",
       "      <td>plantnet</td>\n",
       "      <td>plantnet</td>\n",
       "      <td>https://identify.plantnet.org/fr/k-southwester...</td>\n",
       "      <td>https://bs.plantnet.org/image/o/59feabe1c98f06...</td>\n",
       "      <td>train</td>\n",
       "      <td>https://lab.plantnet.org/LifeCLEF/PlantCLEF202...</td>\n",
       "    </tr>\n",
       "    <tr>\n",
       "      <th>1</th>\n",
       "      <td>dc273995a89827437d447f29a52ccac86f65476e.jpg</td>\n",
       "      <td>leaf</td>\n",
       "      <td>1396710</td>\n",
       "      <td>1008724195</td>\n",
       "      <td>cc-by-sa</td>\n",
       "      <td>NaN</td>\n",
       "      <td>vadim sigaud</td>\n",
       "      <td>323.7520</td>\n",
       "      <td>47.906703</td>\n",
       "      <td>7.201746</td>\n",
       "      <td>5284517.0</td>\n",
       "      <td>Taxus baccata L.</td>\n",
       "      <td>Taxus</td>\n",
       "      <td>Taxaceae</td>\n",
       "      <td>plantnet</td>\n",
       "      <td>plantnet</td>\n",
       "      <td>https://identify.plantnet.org/fr/k-southwester...</td>\n",
       "      <td>https://bs.plantnet.org/image/o/dc273995a89827...</td>\n",
       "      <td>train</td>\n",
       "      <td>https://lab.plantnet.org/LifeCLEF/PlantCLEF202...</td>\n",
       "    </tr>\n",
       "    <tr>\n",
       "      <th>2</th>\n",
       "      <td>416235e7023a4bd1513edf036b6097efc693a304.jpg</td>\n",
       "      <td>leaf</td>\n",
       "      <td>1396710</td>\n",
       "      <td>1008721908</td>\n",
       "      <td>cc-by-sa</td>\n",
       "      <td>NaN</td>\n",
       "      <td>fil escande</td>\n",
       "      <td>101.3160</td>\n",
       "      <td>48.826774</td>\n",
       "      <td>2.352774</td>\n",
       "      <td>5284517.0</td>\n",
       "      <td>Taxus baccata L.</td>\n",
       "      <td>Taxus</td>\n",
       "      <td>Taxaceae</td>\n",
       "      <td>plantnet</td>\n",
       "      <td>plantnet</td>\n",
       "      <td>https://identify.plantnet.org/fr/k-southwester...</td>\n",
       "      <td>https://bs.plantnet.org/image/o/416235e7023a4b...</td>\n",
       "      <td>train</td>\n",
       "      <td>https://lab.plantnet.org/LifeCLEF/PlantCLEF202...</td>\n",
       "    </tr>\n",
       "    <tr>\n",
       "      <th>3</th>\n",
       "      <td>cbd18fade82c46a5c725f1f3d982174895158afc.jpg</td>\n",
       "      <td>leaf</td>\n",
       "      <td>1396710</td>\n",
       "      <td>1008699177</td>\n",
       "      <td>cc-by-sa</td>\n",
       "      <td>NaN</td>\n",
       "      <td>Desiree Verver</td>\n",
       "      <td>5.1070</td>\n",
       "      <td>52.190427</td>\n",
       "      <td>6.009677</td>\n",
       "      <td>5284517.0</td>\n",
       "      <td>Taxus baccata L.</td>\n",
       "      <td>Taxus</td>\n",
       "      <td>Taxaceae</td>\n",
       "      <td>plantnet</td>\n",
       "      <td>plantnet</td>\n",
       "      <td>https://identify.plantnet.org/fr/k-southwester...</td>\n",
       "      <td>https://bs.plantnet.org/image/o/cbd18fade82c46...</td>\n",
       "      <td>train</td>\n",
       "      <td>https://lab.plantnet.org/LifeCLEF/PlantCLEF202...</td>\n",
       "    </tr>\n",
       "    <tr>\n",
       "      <th>4</th>\n",
       "      <td>f82c8c6d570287ebed8407cefcfcb2a51eaaf56e.jpg</td>\n",
       "      <td>leaf</td>\n",
       "      <td>1396710</td>\n",
       "      <td>1008683100</td>\n",
       "      <td>cc-by-sa</td>\n",
       "      <td>NaN</td>\n",
       "      <td>branebrane</td>\n",
       "      <td>165.3390</td>\n",
       "      <td>45.794739</td>\n",
       "      <td>15.965862</td>\n",
       "      <td>5284517.0</td>\n",
       "      <td>Taxus baccata L.</td>\n",
       "      <td>Taxus</td>\n",
       "      <td>Taxaceae</td>\n",
       "      <td>plantnet</td>\n",
       "      <td>plantnet</td>\n",
       "      <td>https://identify.plantnet.org/fr/k-southwester...</td>\n",
       "      <td>https://bs.plantnet.org/image/o/f82c8c6d570287...</td>\n",
       "      <td>train</td>\n",
       "      <td>https://lab.plantnet.org/LifeCLEF/PlantCLEF202...</td>\n",
       "    </tr>\n",
       "  </tbody>\n",
       "</table>\n",
       "</div>"
      ],
      "text/plain": [
       "                                     image_name organ  species_id      obs_id  \\\n",
       "0  59feabe1c98f06e7f819f73c8246bd8f1a89556b.jpg  leaf     1396710  1008726402   \n",
       "1  dc273995a89827437d447f29a52ccac86f65476e.jpg  leaf     1396710  1008724195   \n",
       "2  416235e7023a4bd1513edf036b6097efc693a304.jpg  leaf     1396710  1008721908   \n",
       "3  cbd18fade82c46a5c725f1f3d982174895158afc.jpg  leaf     1396710  1008699177   \n",
       "4  f82c8c6d570287ebed8407cefcfcb2a51eaaf56e.jpg  leaf     1396710  1008683100   \n",
       "\n",
       "    license partner          author  altitude   latitude  longitude  \\\n",
       "0  cc-by-sa     NaN   Gulyás Bálint  205.9261  47.592160  19.362895   \n",
       "1  cc-by-sa     NaN    vadim sigaud  323.7520  47.906703   7.201746   \n",
       "2  cc-by-sa     NaN     fil escande  101.3160  48.826774   2.352774   \n",
       "3  cc-by-sa     NaN  Desiree Verver    5.1070  52.190427   6.009677   \n",
       "4  cc-by-sa     NaN      branebrane  165.3390  45.794739  15.965862   \n",
       "\n",
       "   gbif_species_id           species  genus    family   dataset publisher  \\\n",
       "0        5284517.0  Taxus baccata L.  Taxus  Taxaceae  plantnet  plantnet   \n",
       "1        5284517.0  Taxus baccata L.  Taxus  Taxaceae  plantnet  plantnet   \n",
       "2        5284517.0  Taxus baccata L.  Taxus  Taxaceae  plantnet  plantnet   \n",
       "3        5284517.0  Taxus baccata L.  Taxus  Taxaceae  plantnet  plantnet   \n",
       "4        5284517.0  Taxus baccata L.  Taxus  Taxaceae  plantnet  plantnet   \n",
       "\n",
       "                                          references  \\\n",
       "0  https://identify.plantnet.org/fr/k-southwester...   \n",
       "1  https://identify.plantnet.org/fr/k-southwester...   \n",
       "2  https://identify.plantnet.org/fr/k-southwester...   \n",
       "3  https://identify.plantnet.org/fr/k-southwester...   \n",
       "4  https://identify.plantnet.org/fr/k-southwester...   \n",
       "\n",
       "                                                 url learn_tag  \\\n",
       "0  https://bs.plantnet.org/image/o/59feabe1c98f06...     train   \n",
       "1  https://bs.plantnet.org/image/o/dc273995a89827...     train   \n",
       "2  https://bs.plantnet.org/image/o/416235e7023a4b...     train   \n",
       "3  https://bs.plantnet.org/image/o/cbd18fade82c46...     train   \n",
       "4  https://bs.plantnet.org/image/o/f82c8c6d570287...     train   \n",
       "\n",
       "                                    image_backup_url  \n",
       "0  https://lab.plantnet.org/LifeCLEF/PlantCLEF202...  \n",
       "1  https://lab.plantnet.org/LifeCLEF/PlantCLEF202...  \n",
       "2  https://lab.plantnet.org/LifeCLEF/PlantCLEF202...  \n",
       "3  https://lab.plantnet.org/LifeCLEF/PlantCLEF202...  \n",
       "4  https://lab.plantnet.org/LifeCLEF/PlantCLEF202...  "
      ]
     },
     "execution_count": 6,
     "metadata": {},
     "output_type": "execute_result"
    }
   ],
   "source": [
    "df_species_ids = pd.read_csv('/kaggle/input/plantclef-2025/species_ids.csv')\n",
    "\n",
    "df_metadata = pd.read_csv('/kaggle/input/plantclef-2025/PlantCLEF2024_single_plant_training_metadata.csv', sep=';', dtype={'partner': str})\n",
    "id_to_species = df_metadata[['species_id', 'species']].drop_duplicates().set_index('species_id')\n",
    "\n",
    "df_metadata.head()"
   ]
  },
  {
   "cell_type": "markdown",
   "metadata": {},
   "source": [
    "Import provided model with timm library:"
   ]
  },
  {
   "cell_type": "code",
   "execution_count": 7,
   "metadata": {
    "execution": {
     "iopub.execute_input": "2025-10-17T22:09:23.671058Z",
     "iopub.status.busy": "2025-10-17T22:09:23.670713Z",
     "iopub.status.idle": "2025-10-17T22:09:39.297356Z",
     "shell.execute_reply": "2025-10-17T22:09:39.296667Z",
     "shell.execute_reply.started": "2025-10-17T22:09:23.671028Z"
    },
    "trusted": true
   },
   "outputs": [],
   "source": [
    "device = torch.device('cuda')\n",
    "model = timm.create_model('vit_base_patch14_reg4_dinov2.lvd142m',\n",
    "                          pretrained=False,\n",
    "                          num_classes=len(df_species_ids),\n",
    "                          checkpoint_path='/kaggle/input/dinov2_patch14_reg4_onlyclassifier_then_all/pytorch/default/3/model_best.pth.tar')\n",
    "model = model.to(device)\n",
    "model = model.eval()"
   ]
  },
  {
   "cell_type": "markdown",
   "metadata": {},
   "source": [
    "Load model configuration settings"
   ]
  },
  {
   "cell_type": "code",
   "execution_count": 8,
   "metadata": {
    "execution": {
     "iopub.execute_input": "2025-10-17T22:09:39.298369Z",
     "iopub.status.busy": "2025-10-17T22:09:39.298166Z",
     "iopub.status.idle": "2025-10-17T22:09:39.303368Z",
     "shell.execute_reply": "2025-10-17T22:09:39.302658Z",
     "shell.execute_reply.started": "2025-10-17T22:09:39.298351Z"
    },
    "trusted": true
   },
   "outputs": [],
   "source": [
    "data_config = timm.data.resolve_model_data_config(model)\n",
    "transforms = timm.data.create_transform(**data_config, is_training=False)"
   ]
  },
  {
   "cell_type": "markdown",
   "metadata": {},
   "source": [
    "Set hyperparameters:\n",
    "* batch_size: size of batch of testing images\n",
    "* top_k: keep best top_k results for each image\n",
    "* min_score: keep only classes with a score higher than min_score"
   ]
  },
  {
   "cell_type": "code",
   "execution_count": 9,
   "metadata": {
    "execution": {
     "iopub.execute_input": "2025-10-17T22:09:39.304465Z",
     "iopub.status.busy": "2025-10-17T22:09:39.304186Z",
     "iopub.status.idle": "2025-10-17T22:09:39.317025Z",
     "shell.execute_reply": "2025-10-17T22:09:39.316351Z",
     "shell.execute_reply.started": "2025-10-17T22:09:39.304436Z"
    },
    "trusted": true
   },
   "outputs": [],
   "source": [
    "batch_size = 32\n",
    "top_k = 15\n",
    "min_score = 0.01 "
   ]
  },
  {
   "cell_type": "markdown",
   "metadata": {},
   "source": [
    "Inference on Test Data"
   ]
  },
  {
   "cell_type": "code",
   "execution_count": 10,
   "metadata": {
    "execution": {
     "iopub.execute_input": "2025-10-17T22:09:39.318096Z",
     "iopub.status.busy": "2025-10-17T22:09:39.317826Z",
     "iopub.status.idle": "2025-10-17T22:23:55.882808Z",
     "shell.execute_reply": "2025-10-17T22:23:55.882143Z",
     "shell.execute_reply.started": "2025-10-17T22:09:39.318077Z"
    },
    "trusted": true
   },
   "outputs": [],
   "source": [
    "\n",
    "class_map = df_species_ids['species_id'].to_dict()\n",
    "dataset = TestDataset(image_folder='/kaggle/input/plantclef-2025/PlantCLEF2025_test_images/PlantCLEF2025_test_images/',\n",
    "                      transform=timm.data.create_transform(**data_config, is_training=False))\n",
    "dataloader = DataLoader(dataset, batch_size=batch_size, shuffle=False)\n",
    "\n",
    "image_predictions = {}\n",
    "\n",
    "# Initialize batch time tracking\n",
    "batch_time = AverageMeter()\n",
    "end = time.time()\n",
    "\n",
    "with torch.no_grad():\n",
    "    for batch_idx, (images, image_paths) in enumerate(dataloader):\n",
    "        images = images.to(device)\n",
    "        outputs = model(images)  # Perform inference on the batch\n",
    "        probabilities = torch.nn.functional.softmax(outputs, dim=1)\n",
    "\n",
    "        # Get the top-k values and their indices\n",
    "        values, indices = torch.topk(probabilities, top_k, dim=1)\n",
    "        \n",
    "        # Filter based on the probability threshold\n",
    "        values_np = values.cpu().numpy()\n",
    "        indices_np = indices.cpu().numpy()\n",
    "        \n",
    "        for i in range(values_np.shape[0]):\n",
    "            # Filtered class indices above the threshold\n",
    "            filtered_indices = indices_np[i][values_np[i] >= min_score]\n",
    "            \n",
    "            # Convert class indices to class labels\n",
    "            filtered_labels = [class_map.get(idx, 'Unknown') for idx in filtered_indices]\n",
    "\n",
    "            # Get the image name without the extension\n",
    "            image_name = os.path.splitext(os.path.basename(image_paths[i]))[0]\n",
    "\n",
    "            image_predictions[image_name] = filtered_labels\n",
    "        \n",
    "        batch_time.update(time.time() - end)\n",
    "        end = time.time()\n",
    "\n",
    "        # Log info at specified frequency\n",
    "        if batch_idx % 10 == 0:  # You can set your log frequency here\n",
    "            _logger.info(f'Predict: [{batch_idx}/{len(dataloader)}] '\n",
    "                         f'Time {batch_time.val:.3f} ({batch_time.avg:.3f})')  "
   ]
  },
  {
   "cell_type": "markdown",
   "metadata": {},
   "source": [
    "Submit predictions"
   ]
  },
  {
   "cell_type": "code",
   "execution_count": 11,
   "metadata": {
    "execution": {
     "iopub.execute_input": "2025-10-17T22:23:55.884054Z",
     "iopub.status.busy": "2025-10-17T22:23:55.883754Z",
     "iopub.status.idle": "2025-10-17T22:23:55.907845Z",
     "shell.execute_reply": "2025-10-17T22:23:55.907088Z",
     "shell.execute_reply.started": "2025-10-17T22:23:55.884022Z"
    },
    "trusted": true
   },
   "outputs": [],
   "source": [
    "df_run = pd.DataFrame(list(image_predictions.items()), columns=['quadrat_id', 'species_ids'])\n",
    "df_run['species_ids'] = df_run['species_ids'].apply(str)\n",
    "df_run.to_csv(\"submission.csv\", sep=',', index=False, quoting=csv.QUOTE_ALL)"
   ]
  }
 ],
 "metadata": {
  "kaggle": {
   "accelerator": "nvidiaTeslaT4",
   "dataSources": [
    {
     "databundleVersionId": 11256103,
     "sourceId": 89850,
     "sourceType": "competition"
    },
    {
     "modelId": 216932,
     "modelInstanceId": 195035,
     "sourceId": 228774,
     "sourceType": "modelInstanceVersion"
    },
    {
     "modelId": 216938,
     "modelInstanceId": 195042,
     "sourceId": 228781,
     "sourceType": "modelInstanceVersion"
    }
   ],
   "dockerImageVersionId": 30918,
   "isGpuEnabled": true,
   "isInternetEnabled": true,
   "language": "python",
   "sourceType": "notebook"
  },
  "kernelspec": {
   "display_name": "Python 3",
   "language": "python",
   "name": "python3"
  },
  "language_info": {
   "codemirror_mode": {
    "name": "ipython",
    "version": 3
   },
   "file_extension": ".py",
   "mimetype": "text/x-python",
   "name": "python",
   "nbconvert_exporter": "python",
   "pygments_lexer": "ipython3",
   "version": "3.10.12"
  }
 },
 "nbformat": 4,
 "nbformat_minor": 4
}
